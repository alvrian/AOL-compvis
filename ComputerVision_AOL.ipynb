{
  "cells": [
    {
      "cell_type": "code",
      "execution_count": 1,
      "metadata": {
        "colab": {
          "base_uri": "https://localhost:8080/"
        },
        "id": "u__etscxFk5o",
        "outputId": "93d563cf-f2dc-4abe-9e8d-61774d158c07"
      },
      "outputs": [],
      "source": [
        "import cv2 as cv\n",
        "import matplotlib.pyplot as plt\n",
        "import os\n",
        "import numpy as np\n",
        "import pandas as pd\n",
        "import time\n",
        "import math\n",
        "\n",
        "from skimage.restoration import denoise_wavelet, estimate_sigma\n",
        "from skimage import data, img_as_float\n",
        "from skimage.util import random_noise\n",
        "from skimage.metrics import peak_signal_noise_ratio\n",
        "from skimage.measure import shannon_entropy\n",
        "from sklearn.metrics import silhouette_score\n",
        "from skimage.measure import perimeter\n",
        "from sklearn.preprocessing import MinMaxScaler\n",
        "from sklearn.preprocessing import StandardScaler\n",
        "from scipy.stats import skew\n",
        "\n",
        "from skimage import data, color\n",
        "from skimage.segmentation import chan_vese\n",
        "from skimage import img_as_float\n",
        "\n",
        "# !pip install PyWavelets\n",
        "# !pip install fuzzy-c-means\n",
        "\n",
        "from sklearn.cluster import KMeans\n",
        "from fcmeans import FCM"
      ]
    },
    {
      "cell_type": "code",
      "execution_count": 2,
      "metadata": {
        "id": "owuNqotgPW6t"
      },
      "outputs": [],
      "source": [
        "# run this only once!\n",
        "# !pip uninstall -y opencv-contrib-python\n",
        "# !pip install --no-cache-dir opencv-contrib-python"
      ]
    },
    {
      "cell_type": "code",
      "execution_count": 3,
      "metadata": {
        "id": "B1Wmey-uFojy"
      },
      "outputs": [],
      "source": [
        "# For Google Colab:\n",
        "# from google.colab import drive\n",
        "# drive.mount('/content/drive')\n",
        "trep_dir  = './ships-aerial-images/train_picked/'"
      ]
    },
    {
      "cell_type": "code",
      "execution_count": 4,
      "metadata": {
        "id": "l3cConTuPqpp"
      },
      "outputs": [],
      "source": [
        "def Fetch_Images_Data(directory):\n",
        "  trep_images   = []\n",
        "  num = 0\n",
        "  for path in os.listdir(directory):\n",
        "    num = num + 1\n",
        "    img = cv.imread(directory+path)\n",
        "    if img is not None:\n",
        "      trep_images.append(img)\n",
        "  return trep_images"
      ]
    },
    {
      "cell_type": "code",
      "execution_count": 5,
      "metadata": {
        "id": "DGXnFuSZGQgP"
      },
      "outputs": [],
      "source": [
        "def conv_floatimage_to_uint8image(floatimage):\n",
        "  floatimage = floatimage * 255\n",
        "  floatimage = np.clip(floatimage, 0, 255)\n",
        "  uint8image = floatimage.astype(np.uint8)\n",
        "  return uint8image\n",
        "\n",
        "def BGR_to_LAB(img):\n",
        "  LAB_img = cv.cvtColor(img,cv.COLOR_BGR2LAB)\n",
        "  return LAB_img\n",
        "\n",
        "def LAB_to_BGR(img):\n",
        "  BGR_img = cv.cvtColor(img,cv.COLOR_LAB2BGR)\n",
        "  return BGR_img\n",
        "\n",
        "def BGR_to_HSV(img):\n",
        "  HSV_img = cv.cvtColor(img,cv.COLOR_BGR2HSV)\n",
        "  return HSV_img\n",
        "\n",
        "def HSV_to_BGR(img):\n",
        "  BGR_img = cv.cvtColor(img,cv.COLOR_HSV2BGR)\n",
        "  return BGR_img\n",
        "\n",
        "def plot_comparison(original_image,segmented_image):\n",
        "  plt.figure(figsize=(10, 5))\n",
        "  plt.subplot(1, 2, 1)\n",
        "  plt.imshow(cv.cvtColor(original_image, cv.COLOR_BGR2RGB))\n",
        "  plt.title(\"Original Image\")\n",
        "  plt.axis('off')\n",
        "  plt.subplot(1, 2, 2)\n",
        "  plt.imshow(segmented_image, cmap='jet')\n",
        "  plt.title(\"Sea-Land Segmentation\")\n",
        "  plt.axis('off')\n",
        "  plt.show()\n",
        "  return"
      ]
    },
    {
      "cell_type": "code",
      "execution_count": 6,
      "metadata": {
        "id": "cFkJHOf5PRZ1"
      },
      "outputs": [],
      "source": [
        "def calculate_silhouette(flattened_image,labels):\n",
        "  silhouette = silhouette_score(flattened_image, labels)\n",
        "  return silhouette\n",
        "\n",
        "def calculate_compactness(segmented_image, label_value):\n",
        "    binary_mask = segmented_image == label_value\n",
        "    area = np.sum(binary_mask)\n",
        "    perim = perimeter(binary_mask)\n",
        "    if area == 0:\n",
        "        return np.inf\n",
        "    return (perim ** 2) / area"
      ]
    },
    {
      "cell_type": "code",
      "execution_count": 7,
      "metadata": {
        "id": "bgNMKzAbNwJR"
      },
      "outputs": [],
      "source": [
        "def Median_Filtering(image,kernel_size):\n",
        "  cleaned_img = cv.medianBlur(image,kernel_size)\n",
        "  return cleaned_img\n",
        "\n",
        "def Wavelet_Visushrink(img,threshold):\n",
        "  sigma_est = estimate_sigma(img, channel_axis=-1, average_sigmas=True)\n",
        "  im_visushrink = denoise_wavelet(\n",
        "    img,\n",
        "    channel_axis=-1,\n",
        "    convert2ycbcr=True,\n",
        "    method='VisuShrink',\n",
        "\n",
        "    mode='soft',\n",
        "    sigma=sigma_est/threshold,\n",
        "    rescale_sigma=True,\n",
        "  )\n",
        "  cleaned_img = im_visushrink\n",
        "  return cleaned_img\n",
        "\n",
        "def CLAHE(channel):\n",
        "  channel = np.uint8(channel)\n",
        "  clahe = cv.createCLAHE(clipLimit=2.0, tileGridSize=(8, 8))\n",
        "  res_channel = clahe.apply(channel)\n",
        "  return res_channel\n",
        "\n",
        "def Equalize_CLAHE_HSV(img):\n",
        "  img = BGR_to_HSV(img)\n",
        "  H, S, V = cv.split(img)\n",
        "  new_V = CLAHE(V)\n",
        "  new_img = cv.merge([H,S,new_V])\n",
        "  new_img = HSV_to_BGR(new_img)\n",
        "  return new_img\n",
        "\n",
        "def LightEnhance_CIELAB(image_list,thresh):\n",
        "  lab = cv.cvtColor(img, cv.COLOR_BGR2LAB)\n",
        "  L, A, B = cv.split(lab)\n",
        "  L_enhanced = cv.add(L, thresh)\n",
        "  L_enhanced = np.clip(L_enhanced, 0, 255)\n",
        "  lab_enhanced = cv.merge([L_enhanced, A, B])\n",
        "  image_enhanced = cv.cvtColor(lab_enhanced, cv.COLOR_LAB2BGR)\n",
        "  return image_enhanced"
      ]
    },
    {
      "cell_type": "code",
      "execution_count": 8,
      "metadata": {
        "id": "UPKYN7h5i0ft"
      },
      "outputs": [],
      "source": [
        "def Get_Superpixel_Segments(img, method):\n",
        "    if method == \"SLIC\":\n",
        "        LAB_img = BGR_to_LAB(img)\n",
        "        slic = cv.ximgproc.createSuperpixelSLIC(LAB_img, algorithm=cv.ximgproc.SLIC, region_size=30, ruler=18.5)\n",
        "        slic.iterate(10)\n",
        "        segments = slic.getLabels()\n",
        "    elif method == \"SEEDS\":\n",
        "        LAB_img = BGR_to_LAB(img)\n",
        "        num_superpixels = 800\n",
        "        num_levels = 4\n",
        "        width, height, channels = LAB_img.shape[1], LAB_img.shape[0], LAB_img.shape[2]\n",
        "        seeds = cv.ximgproc.createSuperpixelSEEDS(width, height, channels, num_superpixels, num_levels)\n",
        "        seeds.iterate(LAB_img, 160)\n",
        "        segments = seeds.getLabels()\n",
        "    elif method == \"LSC\":\n",
        "        LAB_img = BGR_to_LAB(img)\n",
        "        lsc = cv.ximgproc.createSuperpixelLSC(LAB_img, region_size=800, ratio=0.065)\n",
        "        lsc.iterate(160)\n",
        "        segments = lsc.getLabels()\n",
        "    else:\n",
        "        raise ValueError(\"INVALID METHOD\")\n",
        "    return segments\n",
        "\n",
        "def Compute_Superpixel_Features(features, segments):\n",
        "    unique_segments = np.unique(segments)\n",
        "    superpixel_features = []\n",
        "\n",
        "    for seg in unique_segments:\n",
        "        mask = (segments == seg)\n",
        "        segment_features = features[mask.flatten()]\n",
        "        mean_feature = segment_features.mean(axis=0)\n",
        "        superpixel_features.append(mean_feature)\n",
        "\n",
        "    return np.array(superpixel_features)"
      ]
    },
    {
      "cell_type": "code",
      "execution_count": 9,
      "metadata": {
        "id": "NGAs26OZO_yc"
      },
      "outputs": [],
      "source": [
        "def Create_GaborFilters_Bank():\n",
        "  filters = []\n",
        "\n",
        "  ksize = 50\n",
        "  sigma = 3\n",
        "  theta = 1*np.pi/4\n",
        "  lamda = 5\n",
        "  gamma = 0.5\n",
        "  phi = 0\n",
        "  theta_list = [\n",
        "    0.0 * theta, 0.25 * theta, 0.5 * theta, 0.75 * theta,\n",
        "    1.0 * theta, 1.25 * theta, 1.5 * theta, 1.75 * theta,\n",
        "    2.0 * theta, 2.25 * theta, 2.5 * theta, 2.75 * theta,\n",
        "    3.0 * theta, 3.25 * theta, 3.5 * theta, 3.75 * theta\n",
        "  ]\n",
        "  lamda_list = [lamda*i for i in range(1, 17)]\n",
        "\n",
        "  for thetas in theta_list:\n",
        "    for lamdas in lamda_list:\n",
        "      kernel = cv.getGaborKernel((ksize,ksize),sigma,thetas,lamdas,gamma,phi,ktype = cv.CV_32F)\n",
        "      filters.append(kernel)\n",
        "  return filters\n",
        "\n",
        "def Apply_Gabor_Filters(image, filters):\n",
        "    responses = []\n",
        "    for kernel in filters:\n",
        "        filtered = cv.filter2D(image, cv.CV_32F, kernel)\n",
        "        responses.append(filtered)\n",
        "    return responses\n",
        "\n",
        "def combine_gabor_features(responses):\n",
        "    feature_stack = np.stack(responses, axis=-1)\n",
        "    feature_vector = feature_stack.reshape(-1, len(responses))\n",
        "    return feature_vector"
      ]
    },
    {
      "cell_type": "code",
      "execution_count": 10,
      "metadata": {
        "id": "VIReAU90HPBl"
      },
      "outputs": [],
      "source": [
        "def Get_Preprocessed_Image(img):\n",
        "  denoised_img = conv_floatimage_to_uint8image(Wavelet_Visushrink(img,1))\n",
        "  contrast_img = Equalize_CLAHE_HSV(denoised_img)\n",
        "  lightend_img = LightEnhance_CIELAB(contrast_img,-30)\n",
        "  return lightend_img\n",
        "\n",
        "def Get_Color_Features_1(img, method, segments):\n",
        "  H, S, V = cv.split(cv.cvtColor(img, cv.COLOR_BGR2HSV))\n",
        "  color_features = np.stack([H.flatten(), S.flatten()], axis=-1)\n",
        "  scaler_color = StandardScaler()\n",
        "  color_features_standardized = scaler_color.fit_transform(color_features)\n",
        "  if method == \"raw\":\n",
        "    return color_features_standardized\n",
        "  elif method == \"spx\":\n",
        "    superpixel_color_features = Compute_Superpixel_Features(color_features_standardized, segments.flatten())\n",
        "    return superpixel_color_features\n",
        "  else:\n",
        "    raise ValueError(\"INVALID METHOD\")\n",
        "\n",
        "def Get_Color_Features_2(img, method, segments):\n",
        "  L, A, B = cv.split(cv.cvtColor(img, cv.COLOR_BGR2LAB))\n",
        "  color_features = np.stack([A.flatten(), B.flatten()], axis=-1)\n",
        "  scaler_color = StandardScaler()\n",
        "  color_features_standardized = scaler_color.fit_transform(color_features)\n",
        "  if method == \"raw\":\n",
        "    return color_features_standardized\n",
        "  elif method == \"spx\":\n",
        "    superpixel_color_features = Compute_Superpixel_Features(color_features_standardized, segments.flatten())\n",
        "    return superpixel_color_features\n",
        "  else:\n",
        "    raise ValueError(\"INVALID METHOD\")\n",
        "\n",
        "\n",
        "def Get_Texture_Features(img, method, segments):\n",
        "  H, S, V = cv.split(cv.cvtColor(img, cv.COLOR_BGR2HSV))\n",
        "  GaborFilters_list = Create_GaborFilters_Bank()\n",
        "  gab_resp = Apply_Gabor_Filters(V,GaborFilters_list)\n",
        "  texture_features = combine_gabor_features(gab_resp)\n",
        "  scaler_texture = StandardScaler()\n",
        "  texture_features_standardized = scaler_texture.fit_transform(texture_features)\n",
        "  if method == \"raw\":\n",
        "    return texture_features_standardized\n",
        "  elif method == \"spx\":\n",
        "    superpixel_texture_features = Compute_Superpixel_Features(texture_features_standardized, segments.flatten())\n",
        "    return superpixel_texture_features\n",
        "  else:\n",
        "    raise ValueError(\"INVALID METHOD\")\n",
        "\n",
        "def Get_Edge_Features(img,method,segments):\n",
        "  gray = cv.cvtColor(img, cv.COLOR_BGR2GRAY)\n",
        "  edge_features = cv.Canny(gray, threshold1=200, threshold2=300, apertureSize=3, L2gradient=True)\n",
        "  edge_features = edge_features.flatten()\n",
        "  edge_features = edge_features.reshape(-1, 1)\n",
        "  scaler_edge = StandardScaler()\n",
        "  edge_features_standardized = scaler_edge.fit_transform(edge_features)\n",
        "  if method == \"raw\":\n",
        "    return edge_features_standardized\n",
        "  elif method == \"spx\":\n",
        "    superpixel_edge_features = Compute_Superpixel_Features(edge_features_standardized, segments.flatten())\n",
        "    return superpixel_edge_features\n",
        "  else:\n",
        "    raise ValueError(\"INVALID METHOD\")\n",
        "\n",
        "def Get_Weighted_Features(feature1,feature2,feature3,feature4,fweight1,fweight2,fweight3,fweight4):\n",
        "  weighted_features = np.hstack([\n",
        "      feature1 * fweight1,\n",
        "      feature2 * fweight2,\n",
        "      feature3 * fweight3,\n",
        "      feature4 * fweight4\n",
        "  ])\n",
        "  return weighted_features"
      ]
    },
    {
      "cell_type": "code",
      "execution_count": 11,
      "metadata": {
        "id": "mbmE1IQwFhWH"
      },
      "outputs": [
        {
          "ename": "error",
          "evalue": "Unknown C++ exception from OpenCV code",
          "output_type": "error",
          "traceback": [
            "\u001b[1;31m---------------------------------------------------------------------------\u001b[0m",
            "\u001b[1;31merror\u001b[0m                                     Traceback (most recent call last)",
            "Cell \u001b[1;32mIn[11], line 13\u001b[0m\n\u001b[0;32m     10\u001b[0m edge_features \u001b[38;5;241m=\u001b[39m Get_Edge_Features(img,\u001b[38;5;124m\"\u001b[39m\u001b[38;5;124mraw\u001b[39m\u001b[38;5;124m\"\u001b[39m,\u001b[38;5;28;01mNone\u001b[39;00m)\n\u001b[0;32m     11\u001b[0m weighted_features_raw \u001b[38;5;241m=\u001b[39m Get_Weighted_Features(color_features_raw1,color_features_raw2,texture_features_raw,edge_features,\u001b[38;5;241m0.9\u001b[39m,\u001b[38;5;241m0.9\u001b[39m,\u001b[38;5;241m0.1\u001b[39m,\u001b[38;5;241m0.9\u001b[39m)\n\u001b[1;32m---> 13\u001b[0m segments \u001b[38;5;241m=\u001b[39m \u001b[43mGet_Superpixel_Segments\u001b[49m\u001b[43m(\u001b[49m\u001b[43mimg\u001b[49m\u001b[43m,\u001b[49m\u001b[38;5;124;43m\"\u001b[39;49m\u001b[38;5;124;43mLSC\u001b[39;49m\u001b[38;5;124;43m\"\u001b[39;49m\u001b[43m)\u001b[49m\n\u001b[0;32m     15\u001b[0m color_features_spx1 \u001b[38;5;241m=\u001b[39m Get_Color_Features_1(img,\u001b[38;5;124m\"\u001b[39m\u001b[38;5;124mspx\u001b[39m\u001b[38;5;124m\"\u001b[39m,segments)\n\u001b[0;32m     16\u001b[0m color_features_spx2 \u001b[38;5;241m=\u001b[39m Get_Color_Features_2(img,\u001b[38;5;124m\"\u001b[39m\u001b[38;5;124mspx\u001b[39m\u001b[38;5;124m\"\u001b[39m,segments)\n",
            "Cell \u001b[1;32mIn[8], line 17\u001b[0m, in \u001b[0;36mGet_Superpixel_Segments\u001b[1;34m(img, method)\u001b[0m\n\u001b[0;32m     15\u001b[0m \u001b[38;5;28;01melif\u001b[39;00m method \u001b[38;5;241m==\u001b[39m \u001b[38;5;124m\"\u001b[39m\u001b[38;5;124mLSC\u001b[39m\u001b[38;5;124m\"\u001b[39m:\n\u001b[0;32m     16\u001b[0m     LAB_img \u001b[38;5;241m=\u001b[39m BGR_to_LAB(img)\n\u001b[1;32m---> 17\u001b[0m     lsc \u001b[38;5;241m=\u001b[39m \u001b[43mcv\u001b[49m\u001b[38;5;241;43m.\u001b[39;49m\u001b[43mximgproc\u001b[49m\u001b[38;5;241;43m.\u001b[39;49m\u001b[43mcreateSuperpixelLSC\u001b[49m\u001b[43m(\u001b[49m\u001b[43mLAB_img\u001b[49m\u001b[43m,\u001b[49m\u001b[43m \u001b[49m\u001b[43mregion_size\u001b[49m\u001b[38;5;241;43m=\u001b[39;49m\u001b[38;5;241;43m800\u001b[39;49m\u001b[43m,\u001b[49m\u001b[43m \u001b[49m\u001b[43mratio\u001b[49m\u001b[38;5;241;43m=\u001b[39;49m\u001b[38;5;241;43m0.065\u001b[39;49m\u001b[43m)\u001b[49m\n\u001b[0;32m     18\u001b[0m     lsc\u001b[38;5;241m.\u001b[39miterate(\u001b[38;5;241m160\u001b[39m)\n\u001b[0;32m     19\u001b[0m     segments \u001b[38;5;241m=\u001b[39m lsc\u001b[38;5;241m.\u001b[39mgetLabels()\n",
            "\u001b[1;31merror\u001b[0m: Unknown C++ exception from OpenCV code"
          ]
        }
      ],
      "source": [
        "images_list = Fetch_Images_Data(trep_dir)\n",
        "\n",
        "img = images_list[25]\n",
        "\n",
        "img = Get_Preprocessed_Image(img)\n",
        "\n",
        "color_features_raw1 = Get_Color_Features_1(img,\"raw\",None)\n",
        "color_features_raw2 = Get_Color_Features_2(img,\"raw\",None)\n",
        "texture_features_raw = Get_Texture_Features(img,\"raw\",None)\n",
        "edge_features = Get_Edge_Features(img,\"raw\",None)\n",
        "weighted_features_raw = Get_Weighted_Features(color_features_raw1,color_features_raw2,texture_features_raw,edge_features,0.9,0.9,0.1,0.9)\n",
        "\n",
        "segments = Get_Superpixel_Segments(img,\"LSC\")\n",
        "\n",
        "color_features_spx1 = Get_Color_Features_1(img,\"spx\",segments)\n",
        "color_features_spx2 = Get_Color_Features_2(img,\"spx\",segments)\n",
        "texture_features_spx = Get_Texture_Features(img,\"spx\",segments)\n",
        "edge_features = Get_Edge_Features(img,\"spx\",segments)\n",
        "weighted_features_spx = Get_Weighted_Features(color_features_spx1,color_features_spx2,texture_features_spx,edge_features,0.9,0.9,0.1,0.9)"
      ]
    },
    {
      "cell_type": "code",
      "execution_count": null,
      "metadata": {
        "id": "-ONqn6ZGOWSD"
      },
      "outputs": [],
      "source": [
        "kmeans = KMeans(n_clusters=2, random_state = 42)\n",
        "labels = kmeans.fit_predict(weighted_features_raw)\n",
        "segmented_image = labels.reshape(img.shape[:2])\n",
        "\n",
        "plot_comparison(img,segmented_image)"
      ]
    },
    {
      "cell_type": "code",
      "execution_count": null,
      "metadata": {
        "id": "nqmOej8kPHoq"
      },
      "outputs": [],
      "source": [
        "fcm = FCM(n_clusters=2, random_state = 42, m = 2)\n",
        "fcm.fit(weighted_features_raw)\n",
        "labels = fcm.predict(weighted_features_raw)\n",
        "segmented_image = labels.reshape(img.shape[:2])\n",
        "\n",
        "plot_comparison(img,segmented_image)"
      ]
    },
    {
      "cell_type": "code",
      "execution_count": null,
      "metadata": {
        "id": "sZ2SxyBFXoB6"
      },
      "outputs": [],
      "source": [
        "fcm = FCM(n_clusters=2, random_state = 42, m = 2)\n",
        "fcm.fit(weighted_features_spx)\n",
        "labels = fcm.predict(weighted_features_spx)\n",
        "superpixel_labels = fcm.predict(weighted_features_spx)\n",
        "\n",
        "segmented_image = np.zeros_like(segments)\n",
        "for seg, label in zip(np.unique(segments), superpixel_labels):\n",
        "    segmented_image[segments == seg] = label\n",
        "\n",
        "plot_comparison(img,segmented_image)"
      ]
    },
    {
      "cell_type": "code",
      "execution_count": null,
      "metadata": {
        "id": "G95xzAOoZW8_"
      },
      "outputs": [],
      "source": [
        "fcm = FCM(n_clusters=2, random_state = 42, m = 2)\n",
        "fcm.fit(weighted_features_spx)\n",
        "labels = fcm.predict(weighted_features_spx)\n",
        "superpixel_labels = fcm.predict(weighted_features_spx)\n",
        "\n",
        "segmented_image = np.zeros_like(segments)\n",
        "for seg, label in zip(np.unique(segments), superpixel_labels):\n",
        "    segmented_image[segments == seg] = label\n",
        "\n",
        "plot_comparison(img,segmented_image)\n",
        "image_float = img_as_float(segmented_image)\n",
        "segmentation_chanvese = chan_vese(image_float, mu=0.25, lambda1=1, lambda2=1, max_num_iter=200, tol=1e-3)\n",
        "\n",
        "plt.imshow(segmentation_chanvese, cmap='gray')\n",
        "plt.title(\"Refined Segmentation with Chan-Vese\")\n",
        "plt.axis('off')\n",
        "plt.show()"
      ]
    },
    {
      "cell_type": "code",
      "execution_count": null,
      "metadata": {
        "id": "K1-Xtqr6gkFb"
      },
      "outputs": [],
      "source": [
        "image = img\n",
        "hsv_image = cv.cvtColor(image, cv.COLOR_BGR2HSV)\n",
        "hue, saturation, value = cv.split(hsv_image)\n",
        "\n",
        "plt.imshow(image)\n",
        "\n",
        "plt.figure(figsize=(12, 4))\n",
        "plt.subplot(1, 3, 1)\n",
        "plt.imshow(hue, cmap='hsv')\n",
        "plt.title('Hue Channel Heatmap')\n",
        "plt.axis('off')\n",
        "plt.subplot(1, 3, 2)\n",
        "plt.imshow(saturation, cmap='hot')\n",
        "plt.title('Saturation Channel Heatmap')\n",
        "plt.axis('off')\n",
        "plt.subplot(1, 3, 3)\n",
        "plt.imshow(value, cmap='hot')\n",
        "plt.title('Value Channel Heatmap')\n",
        "plt.axis('off')\n",
        "plt.tight_layout()\n",
        "plt.show()"
      ]
    }
  ],
  "metadata": {
    "colab": {
      "provenance": []
    },
    "kernelspec": {
      "display_name": "hology",
      "language": "python",
      "name": "python3"
    },
    "language_info": {
      "codemirror_mode": {
        "name": "ipython",
        "version": 3
      },
      "file_extension": ".py",
      "mimetype": "text/x-python",
      "name": "python",
      "nbconvert_exporter": "python",
      "pygments_lexer": "ipython3",
      "version": "3.10.15"
    }
  },
  "nbformat": 4,
  "nbformat_minor": 0
}
