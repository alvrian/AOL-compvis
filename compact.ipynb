{
 "cells": [
  {
   "cell_type": "code",
   "execution_count": 3,
   "metadata": {},
   "outputs": [],
   "source": [
    "import cv2 as cv\n",
    "import matplotlib.pyplot as plt\n",
    "import os\n",
    "import numpy as np\n",
    "from skimage.restoration import denoise_wavelet, estimate_sigma\n",
    "from skimage import img_as_float\n",
    "from sklearn.metrics import silhouette_score\n",
    "from skimage.measure import perimeter\n",
    "from skimage.segmentation import chan_vese\n",
    "from skimage import img_as_float\n",
    "from sklearn.cluster import KMeans\n",
    "from fcmeans import FCM"
   ]
  }
 ],
 "metadata": {
  "kernelspec": {
   "display_name": "hology",
   "language": "python",
   "name": "python3"
  },
  "language_info": {
   "codemirror_mode": {
    "name": "ipython",
    "version": 3
   },
   "file_extension": ".py",
   "mimetype": "text/x-python",
   "name": "python",
   "nbconvert_exporter": "python",
   "pygments_lexer": "ipython3",
   "version": "3.10.15"
  }
 },
 "nbformat": 4,
 "nbformat_minor": 2
}
